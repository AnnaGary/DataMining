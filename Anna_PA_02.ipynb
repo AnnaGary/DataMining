{
 "cells": [
  {
   "cell_type": "markdown",
   "id": "b329987d-a05d-4a34-8b42-ea26b9a49425",
   "metadata": {},
   "source": [
    "# 2. Programming Assignments: Numpy and Pandas Basics "
   ]
  },
  {
   "cell_type": "markdown",
   "id": "7b2e25d8-394b-4e8e-9180-b2a6f64ab200",
   "metadata": {},
   "source": [
    "## NumPy: Average exam scores "
   ]
  },
  {
   "cell_type": "markdown",
   "id": "7ec4b1ac-d57c-4a70-8448-19764fea877b",
   "metadata": {},
   "source": [
    "Write a program that reads two sets of exam scores of five students from user input and stores the scores into two NumPy arrays (exam1 and exam2). The program then calculates the average of the two exams for each of the five students and outputs the average scores as a NumPy array. The program finally counts the number of average scores that are 80 or higher and outputs the count.\n",
    "\n",
    "Ex: If the input of the two sets of scores are:\n",
    "\n",
    "    75 80 65 82 92\n",
    "    88 85 75 95 73\n",
    "\n",
    "where [75 80 65 82 92] is stored in NumPy array exam1, and [88 85 75 95 73] is stored in NumPy array exam2. The program then outputs:\n",
    "\n",
    "    Average scores: [81.5 82.5 70.  88.5 82.5]\n",
    "    Number of students who received 80 and above: 4\n",
    "\n"
   ]
  },
  {
   "cell_type": "code",
   "execution_count": 10,
   "id": "8cacbc8f-d0f9-4382-8c98-f4fb3ee35321",
   "metadata": {},
   "outputs": [
    {
     "name": "stdin",
     "output_type": "stream",
     "text": [
      "Enter 5 numbers separated by spaces:  85 80 30 82 92\n",
      "Enter 5 numbers separated by spaces:  98 86 76 20 73\n"
     ]
    },
    {
     "name": "stdout",
     "output_type": "stream",
     "text": [
      "Exam1 array with 5 values: [85. 80. 30. 82. 92.]\n",
      "Exam2 array with 5 values: [98. 86. 76. 20. 73.]\n",
      "Average scores: [91.5 83.  53.  51.  82.5]\n",
      "Number of students who received 80 and above:  3\n"
     ]
    }
   ],
   "source": [
    "# TODO: Import NumPy\n",
    "import numpy as np\n",
    "\n",
    "# TODO: Read two sets of exam scores of five students from user input\n",
    "#       and store the scores into two NumPy arrays \n",
    "# Function to read exactly 5 float values from user input\n",
    "def read_five_values(prompt):\n",
    "    while True:\n",
    "        try:\n",
    "            # Prompt the user for input\n",
    "            input_str = input(prompt)\n",
    "            # Split the input string into a list of strings\n",
    "            input_list = input_str.split()\n",
    "            \n",
    "            # Check if exactly 5 values are entered\n",
    "            if len(input_list) != 5:\n",
    "                print(\"Please enter exactly 5 values.\")\n",
    "                continue\n",
    "            \n",
    "            # Convert the list of strings to a list of floats\n",
    "            float_list = [float(num) for num in input_list]\n",
    "            \n",
    "            # Convert the list to a NumPy array\n",
    "            return np.array(float_list)\n",
    "        except ValueError:\n",
    "            print(\"Invalid input. Please enter numeric values separated by spaces.\")\n",
    "\n",
    "# Read 5 values from user input\n",
    "exam1 = read_five_values(\"Enter 5 numbers separated by spaces: \")\n",
    "exam2 = read_five_values(\"Enter 5 numbers separated by spaces: \")\n",
    "\n",
    "# Print the resulting NumPy array\n",
    "print(\"Exam1 array with 5 values:\", exam1)\n",
    "print(\"Exam2 array with 5 values:\", exam2)\n",
    "\n",
    "# TODO: Compute the average scores for each of the five students\n",
    "student1avg = (exam1[0] + exam2[0]) / 2\n",
    "student2avg = (exam1[1] + exam2[1]) / 2\n",
    "student3avg = (exam1[2] + exam2[2]) / 2\n",
    "student4avg = (exam1[3] + exam2[3]) / 2\n",
    "student5avg = (exam1[4] + exam2[4]) / 2\n",
    "\n",
    "student_avgs = [student1avg, student2avg, student3avg, student4avg, student5avg]\n",
    "\n",
    "# TODO: Output \"Average scores: \" followed by the NumPy array of the average scores\n",
    "avg_scores = [float(score) for score in student_avgs]\n",
    "print(\"Average scores:\", np.array(avg_scores))\n",
    "\n",
    "# TODO: Count the number of average scores that are >= 80\n",
    "i = 0\n",
    "for avg_score in avg_scores:\n",
    "    if avg_score >= 80:\n",
    "        i = i + 1\n",
    "        \n",
    "\n",
    "# TODO: Output \"Number of students who received 80 and above: \" followed by the count\n",
    "print(\"Number of students who received 80 and above: \", i)\n"
   ]
  },
  {
   "cell_type": "code",
   "execution_count": null,
   "id": "6723fb5e-2609-4ffa-8b36-58b7541c5ff0",
   "metadata": {},
   "outputs": [],
   "source": []
  },
  {
   "cell_type": "markdown",
   "id": "580cae23-9502-44b6-96ee-5b8681410249",
   "metadata": {},
   "source": [
    "## Numpy: Curve student scores "
   ]
  },
  {
   "cell_type": "markdown",
   "id": "63a53d99-6513-41b0-8e23-c17a435d9476",
   "metadata": {},
   "source": [
    "Given the name of a text file that is read from user input and contains student scores, complete a program to perform the following tasks:\n",
    "\n",
    "- Load student scores from the text file into a NumPy array.\n",
    "- Calculate the median and average of the student scores.\n",
    "- Curve the student scores by adding the difference of 100 and the maximum score (100 - max) to each score. As a result, the new maximum score would become 100.\n",
    "- Output the median and average scores with two digits after the decimal point.\n",
    "- Output the curved scores as a NumPy array. End the last output with a newline.\n",
    "- Follow the output format as shown in the example below.\n",
    "Note: Different input text files will be used by the auto-grader. The number of student scores in each file may vary.\n",
    "\n",
    "Ex: If the input of the program is:\n",
    "\n",
    "    scores.txt\n",
    "the output is:\n",
    "\n",
    "    Median = 73.00\n",
    "    Average = 73.32\n",
    "    Curved scores = [ 70  95  84  68  98  73  67  88  73 100  79  92 100  83  98  85 100  85 77  95  99  81  69  74  75]\n"
   ]
  },
  {
   "cell_type": "code",
   "execution_count": 29,
   "id": "4b3b4689-3f94-4db9-b243-146cccc76b78",
   "metadata": {},
   "outputs": [
    {
     "name": "stdout",
     "output_type": "stream",
     "text": [
      "[73. 75. 77. 73. 50. 51. 75. 72. 77. 55. 48. 65. 53. 68. 48. 65. 50. 59.\n",
      " 54. 77. 64. 57. 68. 76. 74. 74. 60. 50. 70. 53. 62. 52. 69. 72. 61. 53.\n",
      " 62. 66. 72. 59. 64. 72. 58. 50. 65. 61. 58. 49. 63. 72. 70. 61. 52. 59.\n",
      " 64.]\n",
      "Max score: 77.0\n",
      "Median of scores: 63.0\n",
      "Average of scores: 62.85\n",
      "[ 96.  98. 100.  96.  73.  74.  98.  95. 100.  78.  71.  88.  76.  91.\n",
      "  71.  88.  73.  82.  77. 100.  87.  80.  91.  99.  97.  97.  83.  73.\n",
      "  93.  76.  85.  75.  92.  95.  84.  76.  85.  89.  95.  82.  87.  95.\n",
      "  81.  73.  88.  84.  81.  72.  86.  95.  93.  84.  75.  82.  87.]\n"
     ]
    }
   ],
   "source": [
    "# TODO: Import NumPy\n",
    "import numpy as np\n",
    "\n",
    "# TODO: Load student scores from file_name into a NumPy array\n",
    "data = np.loadtxt('scores_test1.txt')\n",
    "print(data)\n",
    "\n",
    "# TODO: Calculate the median and average of student scores\n",
    "import statistics as stats\n",
    "\n",
    "median = stats.median(data)\n",
    "\n",
    "avg = stats.mean(data)\n",
    "avg = round(avg, 2)\n",
    "\n",
    "# TODO: Curve student scores\n",
    "maxScore = max(data)\n",
    "print(\"Max score:\", maxScore)\n",
    "diff = 100 - maxScore\n",
    "data = data + diff\n",
    "\n",
    "# TODO: Output the median, average, and curved scores\n",
    "print(\"Median of scores:\", median)\n",
    "print(\"Average of scores:\", avg)\n",
    "print(data)"
   ]
  },
  {
   "cell_type": "code",
   "execution_count": null,
   "id": "6a77a77d-980b-4337-bc16-e85cff4a7c8f",
   "metadata": {},
   "outputs": [],
   "source": []
  },
  {
   "cell_type": "markdown",
   "id": "cd0d36cb-6e54-4ee2-8e66-9522dfdc7acc",
   "metadata": {},
   "source": [
    "## Pandas: Course grade statistics  "
   ]
  },
  {
   "cell_type": "markdown",
   "id": "c17d9bd5-0b8b-4e49-91fc-e2cae3bfda9f",
   "metadata": {},
   "source": [
    "Given the file name of a .tsv file read from user input containing student names and the respective course assignment grades, complete a program that performs the following tasks:\n",
    "\n",
    "- Read the input file as a pandas dataframe.\n",
    "- Output the students' names and grades in descending order of Finals scores.\n",
    "- Output each assignment's max score.\n",
    "- Output the median and average of each assignment's scores.\n",
    "- Output the standard deviation of each assignment's scores.\n",
    "\n",
    "NOTES:\n",
    "\n",
    "- Steps 3 through 5 should only require one function for each step. Ex. Finding the max of each assignment uses max()\n",
    "- Append .to_string() to the end of the function call in order to silence an extraneous line that occurs at the end of the output.\n",
    "- For steps 3, 4, and 5, the functions used will require the parameter numeric_only=True to be passed to specify that only numbers will be calculated (as the input file contains strings for student names).\n",
    "\n",
    "Input and Output Example\n",
    "\n",
    "Ex: If the input of the program is:\n",
    "    StudentInfo.tsv\n",
    "The output is:\n",
    "\n",
    "          Lname   Fname  Midterm1  Midterm2  Final\n",
    "    1  Bradshaw  Reagan        96        97     88\n",
    "    2  Charlton   Caius        73        94     80\n",
    "    0   Barrett    Edan        70        45     59\n",
    "    4     Stern  Brenda        90        86     45\n",
    "    3      Mayo  Tyrese        88        61     36\n",
    "    \n",
    "    Max Scores:\n",
    "    Midterm1    96\n",
    "    Midterm2    97\n",
    "    Final       88\n",
    "    \n",
    "    Median Scores:\n",
    "    Midterm1    88.0\n",
    "    Midterm2    86.0\n",
    "    Final       59.0\n",
    "    \n",
    "    Average Scores:\n",
    "    Midterm1    83.4\n",
    "    Midterm2    76.6\n",
    "    Final       61.6\n",
    "    \n",
    "    Standard Deviation:\n",
    "    Midterm1    11.304866\n",
    "    Midterm2    22.634045\n",
    "    Final       22.210358"
   ]
  },
  {
   "cell_type": "code",
   "execution_count": 69,
   "id": "ff097de1-6c77-4807-89f9-826e12c0d3e1",
   "metadata": {},
   "outputs": [
    {
     "name": "stdin",
     "output_type": "stream",
     "text": [
      " StudentInfo_test1.tsv\n"
     ]
    },
    {
     "name": "stdout",
     "output_type": "stream",
     "text": [
      "      Lname   Fname  Midterm1  Midterm2  Final\n",
      "0   Barrett    Edan        70        85     59\n",
      "1  Bradshaw  Reagan        96        97     88\n",
      "2  Charlton   Caius        45        94     80\n",
      "3      Mayo  Tyrese        75        66     48\n",
      "4     Stern  Brenda        90        86     45\n",
      "5      Mayo   Alice        92        61     36\n",
      "6     Stern     Bob        90        86     45\n",
      "\n",
      "Descending order of Finals scores\n",
      "       Lname   Fname  Midterm1  Midterm2  Final\n",
      "1  Bradshaw  Reagan        96        97     88\n",
      "2  Charlton   Caius        45        94     80\n",
      "0   Barrett    Edan        70        85     59\n",
      "3      Mayo  Tyrese        75        66     48\n",
      "4     Stern  Brenda        90        86     45\n",
      "6     Stern     Bob        90        86     45\n",
      "5      Mayo   Alice        92        61     36\n",
      "\n",
      "Max scores:\n",
      "Midterm1 max score: 96\n",
      "Midterm2 max score: 97\n",
      "Final max score: 88\n",
      "\n",
      "Median Scores:\n",
      "Midterm 1: 90.0\n",
      "Midterm 2: 86.0\n",
      "Final 1: 48.0\n",
      "\n",
      "Average Scores:\n",
      "Midterm1: 79.71\n",
      "Midterm2: 82.14\n",
      "Final: 57.29\n",
      "\n",
      "Standard Deviation:\n",
      "Midterm1: 18.03\n",
      "Midterm2: 13.58\n",
      "Final: 19.59\n"
     ]
    }
   ],
   "source": [
    "import pandas as pd\n",
    "\n",
    "file_name = input()\n",
    "\n",
    "# TODO: Read in file_name as a dataframe\n",
    "df = pd.read_csv(file_name, sep = '\\t')\n",
    "print(df)\n",
    "\n",
    "# TODO: Output rows by descending Final scores\n",
    "sortedByMaxFinalScores = df.sort_values(by = 'Final', ascending = False)\n",
    "print(\"\\nDescending order of Finals scores\\n\", sortedByMaxFinalScores)\n",
    "\n",
    "# TODO: Output the max scores of each assignment\n",
    "maxMid1 = df['Midterm1'].max()\n",
    "maxMid2 = df['Midterm2'].max()\n",
    "maxFinal = df['Final'].max()\n",
    "\n",
    "print(\"\\nMax scores:\")\n",
    "print(\"Midterm1 max score:\", maxMid1)\n",
    "print(\"Midterm2 max score:\", maxMid2)\n",
    "print(\"Final max score:\", maxFinal)\n",
    "\n",
    "# TODO: Output the median scores of each assignment\n",
    "medMid1 = df['Midterm1'].median()\n",
    "medMid2 = df['Midterm2'].median()\n",
    "medFinal = df['Final'].median()\n",
    "print(\"\\nMedian Scores:\")\n",
    "print(\"Midterm 1:\", medMid1)\n",
    "print(\"Midterm 2:\", medMid2)\n",
    "print(\"Final 1:\", medFinal)\n",
    "\n",
    "# TODO: Output the average scores of each assignment.\n",
    "avgMid1 = df['Midterm1'].mean()\n",
    "avgMid2 = df['Midterm2'].mean()\n",
    "avgFinal = df['Final'].mean()\n",
    "print(\"\\nAverage Scores:\")\n",
    "print(\"Midterm1:\", avgMid1.round(2))\n",
    "print(\"Midterm2:\", avgMid2.round(2))\n",
    "print(\"Final:\", avgFinal.round(2))\n",
    "\n",
    "\n",
    "# TODO: Output the standard devation of each assignment.\n",
    "stdDevMid1 = df['Midterm1'].std()\n",
    "stdDevMid2 = df['Midterm2'].std()\n",
    "stdDevFinal = df['Final'].std()\n",
    "print(\"\\nStandard Deviation:\")\n",
    "print(f\"Midterm1: {stdDevMid1:.2f}\")\n",
    "print(f\"Midterm2: {stdDevMid2:.2f}\")\n",
    "print(f\"Final: {stdDevFinal:.2f}\")\n"
   ]
  },
  {
   "cell_type": "code",
   "execution_count": null,
   "id": "72d90295-b8b3-4c49-9334-690ab9c0956d",
   "metadata": {},
   "outputs": [],
   "source": []
  }
 ],
 "metadata": {
  "kernelspec": {
   "display_name": "Python 3 (ipykernel)",
   "language": "python",
   "name": "python3"
  },
  "language_info": {
   "codemirror_mode": {
    "name": "ipython",
    "version": 3
   },
   "file_extension": ".py",
   "mimetype": "text/x-python",
   "name": "python",
   "nbconvert_exporter": "python",
   "pygments_lexer": "ipython3",
   "version": "3.12.4"
  }
 },
 "nbformat": 4,
 "nbformat_minor": 5
}
